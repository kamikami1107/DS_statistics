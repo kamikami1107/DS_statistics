{
 "cells": [
  {
   "cell_type": "code",
   "execution_count": 1,
   "metadata": {},
   "outputs": [],
   "source": [
    "import seaborn as sns\n",
    "import pandas as pd\n",
    "import numpy as np\n",
    "from scipy import stats\n",
    "import matplotlib.pyplot as plt\n",
    "%matplotlib inline"
   ]
  },
  {
   "cell_type": "code",
   "execution_count": 2,
   "metadata": {},
   "outputs": [
    {
     "data": {
      "text/html": [
       "<div>\n",
       "<style scoped>\n",
       "    .dataframe tbody tr th:only-of-type {\n",
       "        vertical-align: middle;\n",
       "    }\n",
       "\n",
       "    .dataframe tbody tr th {\n",
       "        vertical-align: top;\n",
       "    }\n",
       "\n",
       "    .dataframe thead th {\n",
       "        text-align: right;\n",
       "    }\n",
       "</style>\n",
       "<table border=\"1\" class=\"dataframe\">\n",
       "  <thead>\n",
       "    <tr style=\"text-align: right;\">\n",
       "      <th></th>\n",
       "      <th>total_bill</th>\n",
       "      <th>tip</th>\n",
       "      <th>sex</th>\n",
       "      <th>smoker</th>\n",
       "      <th>day</th>\n",
       "      <th>time</th>\n",
       "      <th>size</th>\n",
       "      <th>tip_rate</th>\n",
       "    </tr>\n",
       "  </thead>\n",
       "  <tbody>\n",
       "    <tr>\n",
       "      <th>0</th>\n",
       "      <td>16.99</td>\n",
       "      <td>1.01</td>\n",
       "      <td>Female</td>\n",
       "      <td>No</td>\n",
       "      <td>Sun</td>\n",
       "      <td>Dinner</td>\n",
       "      <td>2</td>\n",
       "      <td>0.059447</td>\n",
       "    </tr>\n",
       "    <tr>\n",
       "      <th>1</th>\n",
       "      <td>10.34</td>\n",
       "      <td>1.66</td>\n",
       "      <td>Male</td>\n",
       "      <td>No</td>\n",
       "      <td>Sun</td>\n",
       "      <td>Dinner</td>\n",
       "      <td>3</td>\n",
       "      <td>0.160542</td>\n",
       "    </tr>\n",
       "    <tr>\n",
       "      <th>2</th>\n",
       "      <td>21.01</td>\n",
       "      <td>3.50</td>\n",
       "      <td>Male</td>\n",
       "      <td>No</td>\n",
       "      <td>Sun</td>\n",
       "      <td>Dinner</td>\n",
       "      <td>3</td>\n",
       "      <td>0.166587</td>\n",
       "    </tr>\n",
       "    <tr>\n",
       "      <th>3</th>\n",
       "      <td>23.68</td>\n",
       "      <td>3.31</td>\n",
       "      <td>Male</td>\n",
       "      <td>No</td>\n",
       "      <td>Sun</td>\n",
       "      <td>Dinner</td>\n",
       "      <td>2</td>\n",
       "      <td>0.139780</td>\n",
       "    </tr>\n",
       "    <tr>\n",
       "      <th>4</th>\n",
       "      <td>24.59</td>\n",
       "      <td>3.61</td>\n",
       "      <td>Female</td>\n",
       "      <td>No</td>\n",
       "      <td>Sun</td>\n",
       "      <td>Dinner</td>\n",
       "      <td>4</td>\n",
       "      <td>0.146808</td>\n",
       "    </tr>\n",
       "    <tr>\n",
       "      <th>...</th>\n",
       "      <td>...</td>\n",
       "      <td>...</td>\n",
       "      <td>...</td>\n",
       "      <td>...</td>\n",
       "      <td>...</td>\n",
       "      <td>...</td>\n",
       "      <td>...</td>\n",
       "      <td>...</td>\n",
       "    </tr>\n",
       "    <tr>\n",
       "      <th>239</th>\n",
       "      <td>29.03</td>\n",
       "      <td>5.92</td>\n",
       "      <td>Male</td>\n",
       "      <td>No</td>\n",
       "      <td>Sat</td>\n",
       "      <td>Dinner</td>\n",
       "      <td>3</td>\n",
       "      <td>0.203927</td>\n",
       "    </tr>\n",
       "    <tr>\n",
       "      <th>240</th>\n",
       "      <td>27.18</td>\n",
       "      <td>2.00</td>\n",
       "      <td>Female</td>\n",
       "      <td>Yes</td>\n",
       "      <td>Sat</td>\n",
       "      <td>Dinner</td>\n",
       "      <td>2</td>\n",
       "      <td>0.073584</td>\n",
       "    </tr>\n",
       "    <tr>\n",
       "      <th>241</th>\n",
       "      <td>22.67</td>\n",
       "      <td>2.00</td>\n",
       "      <td>Male</td>\n",
       "      <td>Yes</td>\n",
       "      <td>Sat</td>\n",
       "      <td>Dinner</td>\n",
       "      <td>2</td>\n",
       "      <td>0.088222</td>\n",
       "    </tr>\n",
       "    <tr>\n",
       "      <th>242</th>\n",
       "      <td>17.82</td>\n",
       "      <td>1.75</td>\n",
       "      <td>Male</td>\n",
       "      <td>No</td>\n",
       "      <td>Sat</td>\n",
       "      <td>Dinner</td>\n",
       "      <td>2</td>\n",
       "      <td>0.098204</td>\n",
       "    </tr>\n",
       "    <tr>\n",
       "      <th>243</th>\n",
       "      <td>18.78</td>\n",
       "      <td>3.00</td>\n",
       "      <td>Female</td>\n",
       "      <td>No</td>\n",
       "      <td>Thur</td>\n",
       "      <td>Dinner</td>\n",
       "      <td>2</td>\n",
       "      <td>0.159744</td>\n",
       "    </tr>\n",
       "  </tbody>\n",
       "</table>\n",
       "<p>244 rows × 8 columns</p>\n",
       "</div>"
      ],
      "text/plain": [
       "     total_bill   tip     sex smoker   day    time  size  tip_rate\n",
       "0         16.99  1.01  Female     No   Sun  Dinner     2  0.059447\n",
       "1         10.34  1.66    Male     No   Sun  Dinner     3  0.160542\n",
       "2         21.01  3.50    Male     No   Sun  Dinner     3  0.166587\n",
       "3         23.68  3.31    Male     No   Sun  Dinner     2  0.139780\n",
       "4         24.59  3.61  Female     No   Sun  Dinner     4  0.146808\n",
       "..          ...   ...     ...    ...   ...     ...   ...       ...\n",
       "239       29.03  5.92    Male     No   Sat  Dinner     3  0.203927\n",
       "240       27.18  2.00  Female    Yes   Sat  Dinner     2  0.073584\n",
       "241       22.67  2.00    Male    Yes   Sat  Dinner     2  0.088222\n",
       "242       17.82  1.75    Male     No   Sat  Dinner     2  0.098204\n",
       "243       18.78  3.00  Female     No  Thur  Dinner     2  0.159744\n",
       "\n",
       "[244 rows x 8 columns]"
      ]
     },
     "execution_count": 2,
     "metadata": {},
     "output_type": "execute_result"
    }
   ],
   "source": [
    "df = sns.load_dataset('tips')\n",
    "df['tip_rate'] = df['tip'] / df['total_bill']\n",
    "df"
   ]
  },
  {
   "cell_type": "markdown",
   "metadata": {},
   "source": [
    "# Random variable（確率変数）\n",
    "- 値は確率的に変動する変数\n",
    "- 通常は$X$で表す\n",
    "- それぞれの値に確率$P(X)$が対応している"
   ]
  },
  {
   "cell_type": "markdown",
   "metadata": {},
   "source": [
    "[![Image from Gyazo](https://i.gyazo.com/0b9cd32a86d5f8643cb4b7b302cc6780.png)](https://gyazo.com/0b9cd32a86d5f8643cb4b7b302cc6780)"
   ]
  },
  {
   "cell_type": "markdown",
   "metadata": {},
   "source": [
    "# Probability Distribution（確率分布）\n",
    "\n",
    "- 確率がどのように分布しているかを表したもの\n",
    "- 確率変数は、確率分布から生成された値と考えるとわかりやすい"
   ]
  },
  {
   "cell_type": "markdown",
   "metadata": {},
   "source": [
    "[![Image from Gyazo](https://i.gyazo.com/e7129ea6acab690af53f28adb027e30d.png)](https://gyazo.com/e7129ea6acab690af53f28adb027e30d)"
   ]
  },
  {
   "cell_type": "markdown",
   "metadata": {},
   "source": [
    "# random variates(rvs):確率変量\n",
    "確率変数：サイコロの目<br>\n",
    "確率変量：1, 2, 3, 4, 5, 6"
   ]
  },
  {
   "cell_type": "markdown",
   "metadata": {},
   "source": [
    "### stats.<確率分布>.<メソッド>"
   ]
  },
  {
   "cell_type": "code",
   "execution_count": 5,
   "metadata": {},
   "outputs": [
    {
     "data": {
      "text/plain": [
       "5"
      ]
     },
     "execution_count": 5,
     "metadata": {},
     "output_type": "execute_result"
    }
   ],
   "source": [
    "# rvs\n",
    "stats.randint(1, 7).rvs()# 1から（7-1）までの整数をランダムに生成"
   ]
  },
  {
   "cell_type": "code",
   "execution_count": 6,
   "metadata": {},
   "outputs": [
    {
     "data": {
      "text/plain": [
       "0.7965011063904214"
      ]
     },
     "execution_count": 6,
     "metadata": {},
     "output_type": "execute_result"
    }
   ],
   "source": [
    "stats.uniform(0, 1).rvs()# 0から(0+1)までの値をランダムに生成"
   ]
  },
  {
   "cell_type": "markdown",
   "metadata": {},
   "source": [
    "一様分布の描画には2種類の方法がある\n",
    "- 離散型確率分布：とびとびの値を取る確率変数<br>\n",
    "  離散型確率分布を表す関数$f(x)$を**PMF:Probability Mass Function(確率質量関数)**という<br>\n",
    "  例：サイコロを振って出た目\n",
    "- 連続型確率分布：連続の値をとる確率変数<br>\n",
    "  連続型確率分布を表す関数$f(x)$を**PDF:Probability Density Function(確率質量関数)**という<br>\n",
    "  例：全国からランダムに選んだ成人男性の身長"
   ]
  },
  {
   "cell_type": "markdown",
   "metadata": {},
   "source": [
    "## Probability Mass Function(確率質量関数)と離散型確率分布"
   ]
  },
  {
   "cell_type": "code",
   "execution_count": 7,
   "metadata": {},
   "outputs": [
    {
     "data": {
      "text/plain": [
       "0.16666666666666666"
      ]
     },
     "execution_count": 7,
     "metadata": {},
     "output_type": "execute_result"
    }
   ],
   "source": [
    "stats.randint(1, 7).pmf(4)# 1から（7-1）までのランダムな整数のうち、４になる確率"
   ]
  },
  {
   "cell_type": "code",
   "execution_count": 8,
   "metadata": {},
   "outputs": [
    {
     "data": {
      "text/plain": [
       "<matplotlib.collections.LineCollection at 0x7ff228731a50>"
      ]
     },
     "execution_count": 8,
     "metadata": {},
     "output_type": "execute_result"
    },
    {
     "data": {
      "image/png": "[encoded data removed]",
      "text/plain": [
       "<Figure size 432x288 with 1 Axes>"
      ]
     },
     "metadata": {
      "needs_background": "light"
     },
     "output_type": "display_data"
    }
   ],
   "source": [
    "# 上記の確率分布を描画\n",
    "# 離散型確率分布\n",
    "\n",
    "x = np.arange(1, 7)\n",
    "y = stats.randint(1, 7).pmf(x)\n",
    "plt.plot(x, y, 'o') # oで点を描画\n",
    "plt.vlines(x, 0, y) # (x, ymin, ymax)"
   ]
  },
  {
   "cell_type": "markdown",
   "metadata": {},
   "source": [
    "## Probability Density Function(確率密度関数)と連続型確率分布"
   ]
  },
  {
   "cell_type": "markdown",
   "metadata": {},
   "source": [
    "[![Image from Gyazo](https://i.gyazo.com/3720ce9597370f2c2a85905ad6a4d0ca.png)](https://gyazo.com/3720ce9597370f2c2a85905ad6a4d0ca)"
   ]
  },
  {
   "cell_type": "markdown",
   "metadata": {},
   "source": [
    "**面積を求めること＝確率を求めること**、になる"
   ]
  },
  {
   "cell_type": "code",
   "execution_count": 10,
   "metadata": {},
   "outputs": [
    {
     "data": {
      "text/plain": [
       "[<matplotlib.lines.Line2D at 0x7ff227e80bd0>]"
      ]
     },
     "execution_count": 10,
     "metadata": {},
     "output_type": "execute_result"
    },
    {
     "data": {
      "image/png": "[encoded data removed]",
      "text/plain": [
       "<Figure size 432x288 with 1 Axes>"
      ]
     },
     "metadata": {
      "needs_background": "light"
     },
     "output_type": "display_data"
    }
   ],
   "source": [
    "# 連続型確率分布\n",
    "\n",
    "x = np.linspace(-2, 2, 100)\n",
    "y = stats.uniform(loc=0, scale=1).pdf(x)\n",
    "plt.plot(x, y)"
   ]
  },
  {
   "cell_type": "markdown",
   "metadata": {},
   "source": [
    "# Cumulative Disrtribution Function(CDF):累積分布関数\n",
    "PDF(確率密度関数)を負の無限大から、ある値（x）まで確率を積み上げた値を返す関数。\n",
    "\n",
    "PDFではある値における確率を知るには面積を求める必要があったが、CDFではそれがすぐにわかる。"
   ]
  },
  {
   "cell_type": "markdown",
   "metadata": {},
   "source": [
    "[![Image from Gyazo](https://i.gyazo.com/b965a85518cf4f1149199921a2483a7f.png)](https://gyazo.com/b965a85518cf4f1149199921a2483a7f)"
   ]
  },
  {
   "cell_type": "code",
   "execution_count": 13,
   "metadata": {},
   "outputs": [
    {
     "data": {
      "text/plain": [
       "[<matplotlib.lines.Line2D at 0x7ff227d29750>]"
      ]
     },
     "execution_count": 13,
     "metadata": {},
     "output_type": "execute_result"
    },
    {
     "data": {
      "image/png": "[encoded data removed]",
      "text/plain": [
       "<Figure size 432x288 with 1 Axes>"
      ]
     },
     "metadata": {
      "needs_background": "light"
     },
     "output_type": "display_data"
    }
   ],
   "source": [
    "# PDF\n",
    "x = np.linspace(-3, 3 , 100)\n",
    "y = stats.norm.pdf(x)\n",
    "plt.plot(x, y)"
   ]
  },
  {
   "cell_type": "code",
   "execution_count": 14,
   "metadata": {},
   "outputs": [
    {
     "data": {
      "text/plain": [
       "[<matplotlib.lines.Line2D at 0x7ff227d12e10>]"
      ]
     },
     "execution_count": 14,
     "metadata": {},
     "output_type": "execute_result"
    },
    {
     "data": {
      "image/png": "[encoded data removed]",
      "text/plain": [
       "<Figure size 432x288 with 1 Axes>"
      ]
     },
     "metadata": {
      "needs_background": "light"
     },
     "output_type": "display_data"
    }
   ],
   "source": [
    "# 上記のCDF\n",
    "y = stats.norm.cdf(x)\n",
    "plt.plot(x, y)"
   ]
  },
  {
   "cell_type": "code",
   "execution_count": 15,
   "metadata": {},
   "outputs": [
    {
     "data": {
      "text/plain": [
       "[<matplotlib.lines.Line2D at 0x7ff227c7e690>]"
      ]
     },
     "execution_count": 15,
     "metadata": {},
     "output_type": "execute_result"
    },
    {
     "data": {
      "image/png": "[encoded data removed]",
      "text/plain": [
       "<Figure size 432x288 with 1 Axes>"
      ]
     },
     "metadata": {
      "needs_background": "light"
     },
     "output_type": "display_data"
    }
   ],
   "source": [
    "# 1-CDF\n",
    "y = stats.norm.sf(x)\n",
    "plt.plot(x, y)"
   ]
  },
  {
   "cell_type": "markdown",
   "metadata": {},
   "source": [
    "# Normal Distribution(正規分布)"
   ]
  },
  {
   "cell_type": "markdown",
   "metadata": {},
   "source": [
    "平均$\\mu$と分散N$\\sigma^2$で形状が決まる"
   ]
  },
  {
   "cell_type": "markdown",
   "metadata": {},
   "source": [
    "$\\large\n",
    "\\begin{align}\n",
    "f(x) = \\frac{1}{\\sqrt{2 \\pi \\sigma^2}} \\exp \\left( – \\frac{(x-\\mu)^2}{2 \\sigma^2} \\right)\n",
    "\\end{align}$"
   ]
  },
  {
   "cell_type": "code",
   "execution_count": 26,
   "metadata": {},
   "outputs": [
    {
     "data": {
      "text/plain": [
       "[<matplotlib.lines.Line2D at 0x7ff2278e1b90>]"
      ]
     },
     "execution_count": 26,
     "metadata": {},
     "output_type": "execute_result"
    },
    {
     "data": {
      "image/png": "[encoded data removed]",
      "text/plain": [
       "<Figure size 432x288 with 1 Axes>"
      ]
     },
     "metadata": {
      "needs_background": "light"
     },
     "output_type": "display_data"
    }
   ],
   "source": [
    "x = np.linspace(-5, 25, 100)\n",
    "y = stats.norm(loc=10, scale=3).pdf(x)\n",
    "y2 = stats.norm(loc=8, scale=3).pdf(x)\n",
    "y3 = stats.norm(loc=9, scale=2).pdf(x)\n",
    "plt.plot(x, y)\n",
    "plt.plot(x, y2)\n",
    "plt.plot(x, y3)"
   ]
  },
  {
   "cell_type": "markdown",
   "metadata": {},
   "source": [
    "# Kerhel Density Estimation:KDE(カーネル密度推定)"
   ]
  },
  {
   "cell_type": "markdown",
   "metadata": {},
   "source": [
    "[![Image from Gyazo](https://i.gyazo.com/3b6a0d5f65eb0b8578f4694f244dabd5.png)](https://gyazo.com/3b6a0d5f65eb0b8578f4694f244dabd5)"
   ]
  },
  {
   "cell_type": "markdown",
   "metadata": {},
   "source": [
    "22歳のカーネル、29歳のカーネル、39歳のカーネルを足し合わせてKDEを完成させ、確率密度関数を推定する。"
   ]
  },
  {
   "cell_type": "code",
   "execution_count": 28,
   "metadata": {},
   "outputs": [
    {
     "data": {
      "text/plain": [
       "[<matplotlib.lines.Line2D at 0x7ff2277fa5d0>]"
      ]
     },
     "execution_count": 28,
     "metadata": {},
     "output_type": "execute_result"
    },
    {
     "data": {
      "image/png": "[encoded data removed]",
      "text/plain": [
       "<Figure size 432x288 with 1 Axes>"
      ]
     },
     "metadata": {
      "needs_background": "light"
     },
     "output_type": "display_data"
    }
   ],
   "source": [
    "x = np.linspace(-3, 10, 100)\n",
    "stats.gaussian_kde([1, 1, 2, 2, 3, 4, 5]).pdf(x)\n",
    "plt.plot(x, y)"
   ]
  },
  {
   "cell_type": "code",
   "execution_count": 29,
   "metadata": {},
   "outputs": [
    {
     "data": {
      "text/plain": [
       "[<matplotlib.lines.Line2D at 0x7ff2277e26d0>]"
      ]
     },
     "execution_count": 29,
     "metadata": {},
     "output_type": "execute_result"
    },
    {
     "data": {
      "image/png": "[encoded data removed]",
      "text/plain": [
       "<Figure size 432x288 with 1 Axes>"
      ]
     },
     "metadata": {
      "needs_background": "light"
     },
     "output_type": "display_data"
    }
   ],
   "source": [
    "# レストランのデータセットで、チップのKDEを推定する\n",
    "\n",
    "x = np.linspace(-3, 10, 100)\n",
    "y = stats.gaussian_kde(df['tip']).pdf(x)\n",
    "plt.plot(x, y)"
   ]
  },
  {
   "cell_type": "code",
   "execution_count": 31,
   "metadata": {},
   "outputs": [
    {
     "data": {
      "text/plain": [
       "<matplotlib.axes._subplots.AxesSubplot at 0x7ff22778a310>"
      ]
     },
     "execution_count": 31,
     "metadata": {},
     "output_type": "execute_result"
    },
    {
     "data": {
      "image/png": "[encoded data removed]",
      "text/plain": [
       "<Figure size 432x288 with 1 Axes>"
      ]
     },
     "metadata": {
      "needs_background": "light"
     },
     "output_type": "display_data"
    }
   ],
   "source": [
    "# 上記のKDEをヒストグラムと共に描画する\n",
    "\n",
    "sns.distplot(df['tip'], kde=True)"
   ]
  },
  {
   "cell_type": "code",
   "execution_count": 37,
   "metadata": {},
   "outputs": [
    {
     "data": {
      "text/plain": [
       "array([[ 5.89285514,  1.65393046,  4.86400419,  1.62559696,  0.92173891,\n",
       "         1.67198161,  3.42022653,  3.86050954,  2.53851922,  4.77452178,\n",
       "         6.85945984,  4.8135586 ,  4.28162398,  2.70253531,  1.78619091,\n",
       "         3.01499767,  3.13541946,  2.95571674,  1.17949104,  1.5229611 ,\n",
       "         2.83232387,  3.31441483,  2.5184686 ,  1.70998312,  1.71080401,\n",
       "         2.86441854,  1.4808762 ,  4.82464181,  1.20074326,  2.39451739,\n",
       "         4.18173601,  4.82060226,  4.25653602,  4.57160217,  2.6819835 ,\n",
       "         1.86328968,  3.53088006,  5.50957674,  3.83266336,  1.6818916 ,\n",
       "         4.15134962,  1.19663775,  3.59054548,  2.80490657,  2.24632655,\n",
       "         1.40432809,  1.88124011,  3.12070598,  0.60888799,  0.76743677,\n",
       "         1.88576745,  3.94529707,  3.41714241,  8.29485636,  4.47507319,\n",
       "         3.51974244,  0.71223521,  2.56692141,  4.12119406,  2.08040286,\n",
       "         2.31884376,  2.88726945,  3.4581002 ,  4.76622826,  2.02326044,\n",
       "         0.66307401,  2.16448206,  3.28834289,  1.66961118,  1.66261819,\n",
       "         5.805291  ,  1.53256085,  6.89416489,  3.52897119,  2.08664807,\n",
       "         6.42241875,  2.68221611,  2.96005036,  1.71552634,  4.19372837,\n",
       "         1.38510124,  3.72166293,  5.17070695,  2.41110814,  4.33824834,\n",
       "         2.03007686,  2.1776273 ,  0.84001292,  3.96146691,  3.25195936,\n",
       "         3.23433219,  2.54547995,  2.68320765,  2.00510078,  2.02887474,\n",
       "         2.5172225 ,  3.10890532,  3.2360556 ,  1.11787284,  2.8174468 ,\n",
       "         2.90534564,  4.30263202,  3.1538256 ,  4.70210014,  5.00096412,\n",
       "         4.56429093,  2.71114629,  1.92826995,  2.59690958,  1.6016627 ,\n",
       "         3.76314524,  3.11992415,  3.1963272 ,  3.35864048,  1.97406262,\n",
       "         2.5154009 ,  1.17942858,  4.66247548,  2.11395218,  2.68024024,\n",
       "         2.97973911,  6.65722217,  3.72486874,  5.05482158,  8.89572067,\n",
       "         2.48199181,  1.98834449,  3.18091723,  0.801827  ,  2.01850164,\n",
       "         0.82869938,  3.6588185 ,  5.46644036,  3.54413878,  0.90181861,\n",
       "         1.74461588,  2.40088913,  2.76455655,  3.92883218,  6.17783616,\n",
       "         1.83058669,  0.78642314,  3.18717413,  5.59212348,  1.61193911,\n",
       "         2.63804508,  2.63182964,  7.08133961,  4.44477446,  3.09127393,\n",
       "         1.97793616,  1.71156125,  0.82900689,  3.75170881,  3.05532214,\n",
       "         1.98239772,  1.35253039,  3.37044102,  1.77035267,  2.5696021 ,\n",
       "         2.73726459,  3.24389783,  1.76336768,  1.90085703,  2.74786896,\n",
       "         2.2303234 ,  3.82896148,  1.07860434,  1.99976909,  5.91427459,\n",
       "         1.76548269,  2.05695979,  2.89878493,  2.29785784,  3.41630558,\n",
       "         2.84703657,  1.95881018,  1.7482543 ,  3.12754401,  0.43243858,\n",
       "        10.40971251,  2.83629145,  2.85513015,  3.42641212,  4.75693146,\n",
       "         1.67910213,  2.84097217,  1.73346162,  2.67040585,  2.19803905,\n",
       "         1.46710936,  4.16636202,  2.49764458,  2.18092722,  2.44342822,\n",
       "         5.76292734,  1.59265124,  1.33653068,  0.92726012,  3.35699898,\n",
       "         2.20747422,  4.23930479,  2.97063155,  1.1616233 ,  4.75504227,\n",
       "         2.76877099,  3.33923172,  2.20940784,  1.83019738,  4.43330822,\n",
       "         3.12733779,  2.12420734,  6.48662044,  1.40745083,  1.7778319 ,\n",
       "         2.05434132,  3.92170983,  4.21725034,  2.15985832,  2.85142529,\n",
       "         2.76818373,  3.81249153,  2.96313723,  3.9746961 ,  3.60917465,\n",
       "         1.91735969,  2.2309172 ,  2.40689388,  1.8273007 ,  2.80393819,\n",
       "         1.95334011,  3.79886434,  2.25225778,  0.49994259,  2.20298335,\n",
       "         4.35831899,  1.97117186,  2.57033529,  2.01311238,  3.00090394,\n",
       "         2.88662975,  3.81838433,  2.16223442,  4.32835933]])"
      ]
     },
     "execution_count": 37,
     "metadata": {},
     "output_type": "execute_result"
    }
   ],
   "source": [
    "# 上記のKDEを今週のデータと仮定し、このKDEを元にして、来週のチップのKDEを予測したい\n",
    "\n",
    "resample_data = stats.gaussian_kde(df['tip']).resample()# ベースのKDEから来週のチップのデータをランダムにリサンプル\n",
    "resample_data"
   ]
  },
  {
   "cell_type": "code",
   "execution_count": 42,
   "metadata": {},
   "outputs": [
    {
     "data": {
      "text/plain": [
       "<matplotlib.axes._subplots.AxesSubplot at 0x7ff227558350>"
      ]
     },
     "execution_count": 42,
     "metadata": {},
     "output_type": "execute_result"
    },
    {
     "data": {
      "image/png": "[encoded data removed]",
      "text/plain": [
       "<Figure size 432x288 with 1 Axes>"
      ]
     },
     "metadata": {
      "needs_background": "light"
     },
     "output_type": "display_data"
    }
   ],
   "source": [
    "# 予測したKDEを生成, 描画\n",
    "\n",
    "x = np.linspace(-3, 10, 100)\n",
    "y = stats.gaussian_kde(resample_data).pdf(x)\n",
    "sns.distplot(y, kde=True)"
   ]
  },
  {
   "cell_type": "code",
   "execution_count": null,
   "metadata": {},
   "outputs": [],
   "source": []
  }
 ],
 "metadata": {
  "kernelspec": {
   "display_name": "Python 3",
   "language": "python",
   "name": "python3"
  },
  "language_info": {
   "codemirror_mode": {
    "name": "ipython",
    "version": 3
   },
   "file_extension": ".py",
   "mimetype": "text/x-python",
   "name": "python",
   "nbconvert_exporter": "python",
   "pygments_lexer": "ipython3",
   "version": "3.7.6"
  }
 },
 "nbformat": 4,
 "nbformat_minor": 4
}
